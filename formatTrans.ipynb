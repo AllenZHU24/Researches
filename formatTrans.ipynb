{
 "cells": [
  {
   "cell_type": "code",
   "execution_count": 23,
   "metadata": {},
   "outputs": [],
   "source": [
    "import json"
   ]
  },
  {
   "cell_type": "markdown",
   "metadata": {},
   "source": [
    "##### Get Top Journals from WOS"
   ]
  },
  {
   "cell_type": "code",
   "execution_count": 49,
   "metadata": {},
   "outputs": [],
   "source": [
    "def ssciCheck(categoryQuartiles):\n",
    "    # traversal the list of categoryQuartiles,\n",
    "    # and indentify if there is ssci category\n",
    "    isSSCI = True\n",
    "    for category in categoryQuartiles:\n",
    "        if category['edition'] == \"SSCI\":\n",
    "            return isSSCI\n",
    "    return False\n",
    "\n",
    "def wosQuerySsci(limit = 10):\n",
    "    with open('./isJournals_rank.json', 'r')  as isJournals_rank:\n",
    "        isJournals_rank = json.load(isJournals_rank)\n",
    "        # form a query script of WOS\n",
    "        isJournals_query = \"AND SO = (\" \n",
    "        isJournals_data = isJournals_rank['data']\n",
    "        num = 0\n",
    "        for journal in isJournals_data:\n",
    "            if num >= limit:\n",
    "                isJournals_query = isJournals_query[: -4] + ')'\n",
    "                break\n",
    "            if ssciCheck(journal['categoryQuartiles']):\n",
    "                # print(\"ssci contain! %s\" %num)\n",
    "                num += 1\n",
    "                isJournals_query += '\"' + journal['journalName'] + '\"' + ' OR '\n",
    "        \n",
    "        return isJournals_query\n",
    "        # num = 0 \n",
    "        # while (k < limit-1):\n",
    "        #     if ssciCheck(isJournals_data[k]['categoryQuartiles']):\n",
    "        #         # print(\"ssci contain! %s\" %num)\n",
    "        #         # num += 1\n",
    "        #         isJournals_query += '\"' + isJournals_data[k]['journalName'] + '\"' + \" OR \"\n",
    "        #     k += 1\n",
    "        # isJournals_query += '\"' + isJournals_data[k]['journalName'] + '\"' + ')'\n",
    "        \n",
    "   "
   ]
  },
  {
   "cell_type": "code",
   "execution_count": 53,
   "metadata": {},
   "outputs": [
    {
     "name": "stdout",
     "output_type": "stream",
     "text": [
      "AND SO = (\"INTERNATIONAL JOURNAL OF INFORMATION MANAGEMENT\" OR \"INFORMATION & MANAGEMENT\" OR \"EUROPEAN JOURNAL OF INFORMATION SYSTEMS\" OR \"INFORMATION PROCESSING & MANAGEMENT\" OR \"TELEMATICS AND INFORMATICS\" OR \"GOVERNMENT INFORMATION QUARTERLY\" OR \"JOURNAL OF MANAGEMENT INFORMATION SYSTEMS\" OR \"MIS QUARTERLY\" OR \"Journal of Computer-Mediated Communication\" OR \"JOURNAL OF STRATEGIC INFORMATION SYSTEMS\" OR \"Journal of Knowledge Management\" OR \"Journal of Organizational and End User Computing\" OR \"Journal of Enterprise Information Management\" OR \"INFORMATION SYSTEMS JOURNAL\" OR \"JOURNAL OF THE AMERICAN MEDICAL INFORMATICS ASSOCIATION\" OR \"Information and Organization\" OR \"Journal of the Association for Information Systems\" OR \"INTERNATIONAL JOURNAL OF GEOGRAPHICAL INFORMATION SCIENCE\" OR \"TELECOMMUNICATIONS POLICY\" OR \"JOURNAL OF INFORMATION TECHNOLOGY\" OR \"INFORMATION SYSTEMS RESEARCH\" OR \"Information Technology for Development\" OR \"Journal of Global Information Management\" OR \"Information Technology & People\" OR \"JOURNAL OF HEALTH COMMUNICATION\" OR \"International Journal of Computer-Supported Collaborative Learning\" OR \"Profesional de la Informacion\" OR \"SOCIAL SCIENCE COMPUTER REVIEW\" OR \"MIS Quarterly Executive\" OR \"SCIENTOMETRICS\")\n"
     ]
    }
   ],
   "source": [
    "wos = wosQuerySsci(30)\n",
    "print(wos)"
   ]
  },
  {
   "cell_type": "code",
   "execution_count": null,
   "metadata": {},
   "outputs": [],
   "source": []
  }
 ],
 "metadata": {
  "kernelspec": {
   "display_name": "reCrawler",
   "language": "python",
   "name": "python3"
  },
  "language_info": {
   "codemirror_mode": {
    "name": "ipython",
    "version": 3
   },
   "file_extension": ".py",
   "mimetype": "text/x-python",
   "name": "python",
   "nbconvert_exporter": "python",
   "pygments_lexer": "ipython3",
   "version": "3.12.3"
  }
 },
 "nbformat": 4,
 "nbformat_minor": 2
}
